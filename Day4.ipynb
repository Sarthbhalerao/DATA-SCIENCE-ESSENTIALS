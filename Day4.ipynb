{
  "nbformat": 4,
  "nbformat_minor": 0,
  "metadata": {
    "colab": {
      "name": "Day4.ipynb",
      "provenance": [],
      "collapsed_sections": []
    },
    "kernelspec": {
      "name": "python3",
      "display_name": "Python 3"
    }
  },
  "cells": [
    {
      "cell_type": "markdown",
      "metadata": {
        "id": "ZlvnRBa8Z9rm"
      },
      "source": [
        "# **Assignment 4**\n",
        "\n",
        "\n",
        "\n"
      ]
    },
    {
      "cell_type": "markdown",
      "metadata": {
        "id": "H68EHKVNaRE1"
      },
      "source": [
        "# **QUESTION 1**"
      ]
    },
    {
      "cell_type": "markdown",
      "metadata": {
        "id": "RAbfeI8pbXZD"
      },
      "source": [
        "**How to import pandas and check the version?**"
      ]
    },
    {
      "cell_type": "markdown",
      "metadata": {
        "id": "Jd_oTy2Aa5VJ"
      },
      "source": [
        "# **ANSWER**"
      ]
    },
    {
      "cell_type": "code",
      "metadata": {
        "id": "2tJwDrcAarVK",
        "outputId": "acb79e8b-0564-41ed-ad4f-56b45c4ff435",
        "colab": {
          "base_uri": "https://localhost:8080/"
        }
      },
      "source": [
        "#importing pandas with its alias name\n",
        "import pandas as pd\n",
        "print(pd.__version__)"
      ],
      "execution_count": null,
      "outputs": [
        {
          "output_type": "stream",
          "text": [
            "1.1.4\n"
          ],
          "name": "stdout"
        }
      ]
    },
    {
      "cell_type": "markdown",
      "metadata": {
        "id": "zcJkXffvaZ9e"
      },
      "source": [
        "# **QUESTION 2**"
      ]
    },
    {
      "cell_type": "markdown",
      "metadata": {
        "id": "ojG7Zp3fbfG2"
      },
      "source": [
        "**How to create a series from a numpy array?**"
      ]
    },
    {
      "cell_type": "markdown",
      "metadata": {
        "id": "u4chG6SDbCT9"
      },
      "source": [
        "# **ANSWER**"
      ]
    },
    {
      "cell_type": "code",
      "metadata": {
        "id": "efAo2GmEd5WY",
        "outputId": "66050498-bbe3-4130-b719-7467ae68083a",
        "colab": {
          "base_uri": "https://localhost:8080/"
        }
      },
      "source": [
        "#importing numpy and pandas\n",
        "import pandas as pd \n",
        "import numpy as np \n",
        "  \n",
        "# creating numpy array \n",
        "data = np.array([14,25,36,47,58,69,17,28,39]) \n",
        "print(\"numpy array is:\", data)\n",
        "\n",
        "# creating series \n",
        "s = pd.Series(data) \n",
        "print(\"series of above numpy array is :\")\n",
        "print(s)"
      ],
      "execution_count": null,
      "outputs": [
        {
          "output_type": "stream",
          "text": [
            "numpy array is: [14 25 36 47 58 69 17 28 39]\n",
            "series of above numpy array is :\n",
            "0    14\n",
            "1    25\n",
            "2    36\n",
            "3    47\n",
            "4    58\n",
            "5    69\n",
            "6    17\n",
            "7    28\n",
            "8    39\n",
            "dtype: int64\n"
          ],
          "name": "stdout"
        }
      ]
    },
    {
      "cell_type": "markdown",
      "metadata": {
        "id": "-SOFrBlHai8l"
      },
      "source": [
        "# **QUESTION 3**"
      ]
    },
    {
      "cell_type": "markdown",
      "metadata": {
        "id": "aMKyKY9ubkl5"
      },
      "source": [
        "**How to convert the index of a series into a column of a dataframe?**"
      ]
    },
    {
      "cell_type": "markdown",
      "metadata": {
        "id": "E1xFkrJBbED1"
      },
      "source": [
        "# **ANSWER**"
      ]
    },
    {
      "cell_type": "code",
      "metadata": {
        "id": "FEQ4OenPhH4y",
        "outputId": "35e7c81f-75d1-4c47-82c8-bb709e2ed2b4",
        "colab": {
          "base_uri": "https://localhost:8080/",
          "height": 532
        }
      },
      "source": [
        "#importing numpy and pandas\n",
        "import pandas as pd \n",
        "import numpy as np \n",
        "  \n",
        "# creating numpy array \n",
        "data = np.array([14,25,36,47,58,69,17,28,39]) \n",
        "print(\"numpy array is:\", data)\n",
        "\n",
        "# creating series \n",
        "s = pd.Series(data) \n",
        "print(\"series of above numpy array is :\")\n",
        "print(s)\n",
        "\n",
        "#creating DataFrame\n",
        "\n",
        "pd.DataFrame(s, columns=['ABC'])"
      ],
      "execution_count": null,
      "outputs": [
        {
          "output_type": "stream",
          "text": [
            "numpy array is: [14 25 36 47 58 69 17 28 39]\n",
            "series of above numpy array is :\n",
            "0    14\n",
            "1    25\n",
            "2    36\n",
            "3    47\n",
            "4    58\n",
            "5    69\n",
            "6    17\n",
            "7    28\n",
            "8    39\n",
            "dtype: int64\n"
          ],
          "name": "stdout"
        },
        {
          "output_type": "execute_result",
          "data": {
            "text/html": [
              "<div>\n",
              "<style scoped>\n",
              "    .dataframe tbody tr th:only-of-type {\n",
              "        vertical-align: middle;\n",
              "    }\n",
              "\n",
              "    .dataframe tbody tr th {\n",
              "        vertical-align: top;\n",
              "    }\n",
              "\n",
              "    .dataframe thead th {\n",
              "        text-align: right;\n",
              "    }\n",
              "</style>\n",
              "<table border=\"1\" class=\"dataframe\">\n",
              "  <thead>\n",
              "    <tr style=\"text-align: right;\">\n",
              "      <th></th>\n",
              "      <th>ABC</th>\n",
              "    </tr>\n",
              "  </thead>\n",
              "  <tbody>\n",
              "    <tr>\n",
              "      <th>0</th>\n",
              "      <td>14</td>\n",
              "    </tr>\n",
              "    <tr>\n",
              "      <th>1</th>\n",
              "      <td>25</td>\n",
              "    </tr>\n",
              "    <tr>\n",
              "      <th>2</th>\n",
              "      <td>36</td>\n",
              "    </tr>\n",
              "    <tr>\n",
              "      <th>3</th>\n",
              "      <td>47</td>\n",
              "    </tr>\n",
              "    <tr>\n",
              "      <th>4</th>\n",
              "      <td>58</td>\n",
              "    </tr>\n",
              "    <tr>\n",
              "      <th>5</th>\n",
              "      <td>69</td>\n",
              "    </tr>\n",
              "    <tr>\n",
              "      <th>6</th>\n",
              "      <td>17</td>\n",
              "    </tr>\n",
              "    <tr>\n",
              "      <th>7</th>\n",
              "      <td>28</td>\n",
              "    </tr>\n",
              "    <tr>\n",
              "      <th>8</th>\n",
              "      <td>39</td>\n",
              "    </tr>\n",
              "  </tbody>\n",
              "</table>\n",
              "</div>"
            ],
            "text/plain": [
              "   ABC\n",
              "0   14\n",
              "1   25\n",
              "2   36\n",
              "3   47\n",
              "4   58\n",
              "5   69\n",
              "6   17\n",
              "7   28\n",
              "8   39"
            ]
          },
          "metadata": {
            "tags": []
          },
          "execution_count": 41
        }
      ]
    },
    {
      "cell_type": "markdown",
      "metadata": {
        "id": "2KGyqOCsal5p"
      },
      "source": [
        "# **QUESTION 4**"
      ]
    },
    {
      "cell_type": "markdown",
      "metadata": {
        "id": "_RA19Wl0bq2K"
      },
      "source": [
        "**Write the code to list all the datasets available in seaborn library.\n",
        "Load the 'mpg' dataset\n",
        "Note: mpg dataset will be read from seaborn module in the manner sir has already shown(provided in the\n",
        "materials folder)**"
      ]
    },
    {
      "cell_type": "markdown",
      "metadata": {
        "id": "JcoNKvTdbFx1"
      },
      "source": [
        "# **ANSWER**"
      ]
    },
    {
      "cell_type": "code",
      "metadata": {
        "id": "e-fl-PQPqBVs",
        "outputId": "67ac6144-689b-4ef8-a240-9be20b7be51f",
        "colab": {
          "base_uri": "https://localhost:8080/"
        }
      },
      "source": [
        "#code to list all the datasets available in seaborn library. \n",
        "\n",
        "#importing seaborn as sns\n",
        "import seaborn as sns\n",
        "sns.get_dataset_names()"
      ],
      "execution_count": null,
      "outputs": [
        {
          "output_type": "execute_result",
          "data": {
            "text/plain": [
              "['anagrams',\n",
              " 'anscombe',\n",
              " 'attention',\n",
              " 'brain_networks',\n",
              " 'car_crashes',\n",
              " 'diamonds',\n",
              " 'dots',\n",
              " 'exercise',\n",
              " 'flights',\n",
              " 'fmri',\n",
              " 'gammas',\n",
              " 'geyser',\n",
              " 'iris',\n",
              " 'mpg',\n",
              " 'penguins',\n",
              " 'planets',\n",
              " 'tips',\n",
              " 'titanic']"
            ]
          },
          "metadata": {
            "tags": []
          },
          "execution_count": 25
        }
      ]
    },
    {
      "cell_type": "code",
      "metadata": {
        "id": "BM3zKg_lpnzW",
        "outputId": "bcc40a16-bb5f-4d3e-ca39-16d982bbea48",
        "colab": {
          "base_uri": "https://localhost:8080/"
        }
      },
      "source": [
        "#loading mpg dataset from seaborn\n",
        "\n",
        "# importing seaborn\n",
        "import seaborn as sns\n",
        "\n",
        "#loading mpg dataset\n",
        "mpg=sns.load_dataset('mpg')\n",
        "print(mpg)"
      ],
      "execution_count": null,
      "outputs": [
        {
          "output_type": "stream",
          "text": [
            "      mpg  cylinders  ...  origin                       name\n",
            "0    18.0          8  ...     usa  chevrolet chevelle malibu\n",
            "1    15.0          8  ...     usa          buick skylark 320\n",
            "2    18.0          8  ...     usa         plymouth satellite\n",
            "3    16.0          8  ...     usa              amc rebel sst\n",
            "4    17.0          8  ...     usa                ford torino\n",
            "..    ...        ...  ...     ...                        ...\n",
            "393  27.0          4  ...     usa            ford mustang gl\n",
            "394  44.0          4  ...  europe                  vw pickup\n",
            "395  32.0          4  ...     usa              dodge rampage\n",
            "396  28.0          4  ...     usa                ford ranger\n",
            "397  31.0          4  ...     usa                 chevy s-10\n",
            "\n",
            "[398 rows x 9 columns]\n"
          ],
          "name": "stdout"
        }
      ]
    },
    {
      "cell_type": "markdown",
      "metadata": {
        "id": "5QBNF8Y7aoMa"
      },
      "source": [
        "# **QUESTION 5**"
      ]
    },
    {
      "cell_type": "markdown",
      "metadata": {
        "id": "33seu4Jxbzkj"
      },
      "source": [
        "**Which country origin cars are a part of this dataset?**"
      ]
    },
    {
      "cell_type": "markdown",
      "metadata": {
        "id": "lmujmWz-bHxv"
      },
      "source": [
        "# **ANSWER**"
      ]
    },
    {
      "cell_type": "code",
      "metadata": {
        "id": "LFv_YhY9tC8F",
        "outputId": "d6f2a8b2-a031-4fdc-eb14-4888cc798c68",
        "colab": {
          "base_uri": "https://localhost:8080/"
        }
      },
      "source": [
        "#loading mpg dataset from seaborn\n",
        "\n",
        "# importing seaborn\n",
        "import seaborn as sns\n",
        "\n",
        "#loading mpg dataset\n",
        "mpg=sns.load_dataset('mpg')\n",
        "\n",
        "#creating a dataframe of mpg dataset\n",
        "df=pd.DataFrame(mpg)\n",
        "print(df)\n",
        "print(\" country origin :\", df.origin.unique())"
      ],
      "execution_count": null,
      "outputs": [
        {
          "output_type": "stream",
          "text": [
            "      mpg  cylinders  ...  origin                       name\n",
            "0    18.0          8  ...     usa  chevrolet chevelle malibu\n",
            "1    15.0          8  ...     usa          buick skylark 320\n",
            "2    18.0          8  ...     usa         plymouth satellite\n",
            "3    16.0          8  ...     usa              amc rebel sst\n",
            "4    17.0          8  ...     usa                ford torino\n",
            "..    ...        ...  ...     ...                        ...\n",
            "393  27.0          4  ...     usa            ford mustang gl\n",
            "394  44.0          4  ...  europe                  vw pickup\n",
            "395  32.0          4  ...     usa              dodge rampage\n",
            "396  28.0          4  ...     usa                ford ranger\n",
            "397  31.0          4  ...     usa                 chevy s-10\n",
            "\n",
            "[398 rows x 9 columns]\n",
            " country origin : ['usa' 'japan' 'europe']\n"
          ],
          "name": "stdout"
        }
      ]
    },
    {
      "cell_type": "markdown",
      "metadata": {
        "id": "p2ncc0_harNB"
      },
      "source": [
        "# **QUESTION 6**"
      ]
    },
    {
      "cell_type": "markdown",
      "metadata": {
        "id": "ogZSKDDUcKr_"
      },
      "source": [
        "**Extract the part of the dataframe which contains cars belonging to 'usa'**"
      ]
    },
    {
      "cell_type": "markdown",
      "metadata": {
        "id": "XxEBscHcbQa6"
      },
      "source": [
        "# **ANSWER**"
      ]
    },
    {
      "cell_type": "code",
      "metadata": {
        "id": "9vm7M-03tF1A",
        "outputId": "5646ac76-613e-4fd0-da6c-7b8e1d7454e6",
        "colab": {
          "base_uri": "https://localhost:8080/"
        }
      },
      "source": [
        "#loading mpg dataset from seaborn\n",
        "\n",
        "# importing seaborn\n",
        "import seaborn as sns\n",
        "\n",
        "#loading mpg dataset\n",
        "mpg = sns.load_dataset('mpg')\n",
        "print(mpg)\n",
        "\n",
        "#creating a dataframe of mpg dataset\n",
        "print(\"The DataFrame of mpg dataset is:\")\n",
        "df = pd.DataFrame(mpg)\n",
        "us=mpg.loc[mpg['origin']=='usa'] \n",
        "print(us)"
      ],
      "execution_count": null,
      "outputs": [
        {
          "output_type": "stream",
          "text": [
            "      mpg  cylinders  ...  origin                       name\n",
            "0    18.0          8  ...     usa  chevrolet chevelle malibu\n",
            "1    15.0          8  ...     usa          buick skylark 320\n",
            "2    18.0          8  ...     usa         plymouth satellite\n",
            "3    16.0          8  ...     usa              amc rebel sst\n",
            "4    17.0          8  ...     usa                ford torino\n",
            "..    ...        ...  ...     ...                        ...\n",
            "393  27.0          4  ...     usa            ford mustang gl\n",
            "394  44.0          4  ...  europe                  vw pickup\n",
            "395  32.0          4  ...     usa              dodge rampage\n",
            "396  28.0          4  ...     usa                ford ranger\n",
            "397  31.0          4  ...     usa                 chevy s-10\n",
            "\n",
            "[398 rows x 9 columns]\n",
            "The DataFrame of mpg dataset is:\n",
            "      mpg  cylinders  ...  origin                       name\n",
            "0    18.0          8  ...     usa  chevrolet chevelle malibu\n",
            "1    15.0          8  ...     usa          buick skylark 320\n",
            "2    18.0          8  ...     usa         plymouth satellite\n",
            "3    16.0          8  ...     usa              amc rebel sst\n",
            "4    17.0          8  ...     usa                ford torino\n",
            "..    ...        ...  ...     ...                        ...\n",
            "392  27.0          4  ...     usa           chevrolet camaro\n",
            "393  27.0          4  ...     usa            ford mustang gl\n",
            "395  32.0          4  ...     usa              dodge rampage\n",
            "396  28.0          4  ...     usa                ford ranger\n",
            "397  31.0          4  ...     usa                 chevy s-10\n",
            "\n",
            "[249 rows x 9 columns]\n"
          ],
          "name": "stdout"
        }
      ]
    }
  ]
}